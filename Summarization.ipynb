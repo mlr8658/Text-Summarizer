{
  "nbformat": 4,
  "nbformat_minor": 0,
  "metadata": {
    "colab": {
      "provenance": [],
      "authorship_tag": "ABX9TyOmCQ2SjVUsgbpGyo8bjgSO",
      "include_colab_link": true
    },
    "kernelspec": {
      "name": "python3",
      "display_name": "Python 3"
    },
    "language_info": {
      "name": "python"
    }
  },
  "cells": [
    {
      "cell_type": "markdown",
      "metadata": {
        "id": "view-in-github",
        "colab_type": "text"
      },
      "source": [
        "<a href=\"https://colab.research.google.com/github/mlr8658/Text-Summarizer/blob/main/Summarization.ipynb\" target=\"_parent\"><img src=\"https://colab.research.google.com/assets/colab-badge.svg\" alt=\"Open In Colab\"/></a>"
      ]
    },
    {
      "cell_type": "code",
      "execution_count": 1,
      "metadata": {
        "id": "ktS1JwTvsIAO"
      },
      "outputs": [],
      "source": [
        "%%capture\n",
        "\n",
        "!pip install openai"
      ]
    },
    {
      "cell_type": "code",
      "source": [
        "\n",
        "# transcript = 'This is a transcript from a youtube video about how to code in python. It is a very short transcript.'\n",
        "# import openai\n",
        "# import os\n",
        "# #from dotenv import load_dotenv\n",
        "\n",
        "from openai import ChatCompletion\n",
        "\n",
        "#chat_text = \"Today is Wednesday, so tomorrow is\"\n",
        "\n",
        "#chat_text = \"You are familiar with the Meyers Briggs personality test and its results. What kind of activities would you recommend which can help INTJ and a ENFP develop a closer relationship / build trust\"\n",
        "chat_text = \"Before we start learning about Python or software development, it will be helpful for us to achieve a basic level of familiarity with the command-line. Throughout the semester, we will be using the command-line to navigate and manage our computer's filesystem, execute Python scripts, and perform other important tasks using various command-line utilities (CLIs). Commands can differ based on which operating system and command-line application you're using, but all students are encouraged to learn the prevalent unix-style commands: On Mac OS, the default Terminal application will allow students to use unix-style commands. On Windows OS, the default Command Prompt application uses different commands, but installing the Git Bash application will allow students to use unix-style commands.\"\n",
        "\n",
        "audience = input('Who is the summary for?')\n",
        "\n",
        "#summary_length = input('How long do you want the summary?')\n",
        "summary_length = input('Select the type of summary you want: \\n A) 1 sentence \\n B) 5 bullet points \\n C) An outline \\n')\n",
        "\n",
        "if summary_length.upper() == 'A':\n",
        "    summary_length = \"1 sentence\"\n",
        "elif summary_length.upper() == 'B':\n",
        "    summary_length = \"5 bullet points\"\n",
        "elif summary_length.upper() == 'C':\n",
        "    summary_length = \"an outline\"\n",
        "else:\n",
        "    print('INVALID RESPONSE. PLEASE TRY AGAIN.')\n",
        "\n",
        "\n",
        "chat_completion = ChatCompletion.create(model=\"gpt-3.5-turbo\", messages=[\n",
        "    {\"role\": \"user\", \"content\": f\"Summarize this for {audience} text in {summary_length}: {chat_text}\"}\n",
        "])\n",
        "\n",
        "# print the chat completion\n",
        "print(chat_completion.choices[0].message.content)\n",
        "\n",
        "\n",
        "# response = openai.ChatCompletion.create(\n",
        "#     model=\"gpt-3.5-turbo\",\n",
        "#         messages=[\n",
        "#         {\"role\": \"user\", \"content\": f\"Summarize this: {transcript}\"},\n",
        "#     ],\n",
        "# )\n",
        "# page_summary = response[\"choices\"][0][\"message\"][\"content\"]\n",
        "########\n",
        "# def generate_summarizer(\n",
        "#     max_tokens,\n",
        "#     temperature,\n",
        "#     top_p,\n",
        "#     frequency_penalty,\n",
        "#     prompt,\n",
        "#     person_type,\n",
        "# ):\n",
        "#     res = openai.ChatCompletion.create(\n",
        "#         model=\"gpt-3.5-turbo\",\n",
        "#         max_tokens=100,\n",
        "#         temperature=0.7,\n",
        "#         top_p=0.5,\n",
        "#         frequency_penalty=0.5,\n",
        "#         messages=\n",
        "#        [\n",
        "#          {\n",
        "#           \"role\": \"system\",\n",
        "#           \"content\": \"You are a helpful assistant for text summarization.\",\n",
        "#          },\n",
        "#          {\n",
        "#           \"role\": \"user\",\n",
        "#           \"content\": f\"Summarize this for a {person_type}: {prompt}\",\n",
        "#          },\n",
        "#         ],\n",
        "#     )\n",
        "#     return res[\"choices\"][0][\"message\"][\"content\"]"
      ],
      "metadata": {
        "colab": {
          "base_uri": "https://localhost:8080/"
        },
        "id": "6RIa2qWtsI13",
        "outputId": "caabfc1b-5849-4eb4-de45-8d8a895da52d"
      },
      "execution_count": 22,
      "outputs": [
        {
          "output_type": "stream",
          "name": "stdout",
          "text": [
            "Who is the summary for?a child\n",
            "Select the type of summary you want: \n",
            " A) 1 sentence \n",
            " B) 5 bullet points \n",
            " C) An outline \n",
            "b\n",
            "- Before learning Python or software development, we need to learn about the command-line.\n",
            "- We will use the command-line to do important tasks on our computer.\n",
            "- Different operating systems have different commands, but we will focus on Unix-style commands.\n",
            "- On Mac, we can use the Terminal application to use Unix-style commands.\n",
            "- On Windows, we need to install the Git Bash application to use Unix-style commands.\n"
          ]
        }
      ]
    }
  ]
}