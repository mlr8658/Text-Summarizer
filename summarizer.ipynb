{
  "nbformat": 4,
  "nbformat_minor": 0,
  "metadata": {
    "colab": {
      "provenance": [],
      "authorship_tag": "ABX9TyNigO6iJhGDyOlQAa06VmxY",
      "include_colab_link": true
    },
    "kernelspec": {
      "name": "python3",
      "display_name": "Python 3"
    },
    "language_info": {
      "name": "python"
    }
  },
  "cells": [
    {
      "cell_type": "markdown",
      "metadata": {
        "id": "view-in-github",
        "colab_type": "text"
      },
      "source": [
        "<a href=\"https://colab.research.google.com/github/mlr8658/Text-Summarizer/blob/main/summarizer.ipynb\" target=\"_parent\"><img src=\"https://colab.research.google.com/assets/colab-badge.svg\" alt=\"Open In Colab\"/></a>"
      ]
    },
    {
      "cell_type": "code",
      "execution_count": 17,
      "metadata": {
        "id": "ktS1JwTvsIAO"
      },
      "outputs": [],
      "source": [
        "%%capture\n",
        "\n",
        "!pip install openai"
      ]
    },
    {
      "cell_type": "code",
      "source": [],
      "metadata": {
        "id": "Ru53nVPIsgVb"
      },
      "execution_count": 19,
      "outputs": []
    },
    {
      "cell_type": "code",
      "source": [
        "\n",
        "# transcript = 'This is a transcript from a youtube video about how to code in python. It is a very short transcript.'\n",
        "# import openai\n",
        "# import os\n",
        "# #from dotenv import load_dotenv\n",
        "\n",
        "from openai import ChatCompletion\n",
        "\n",
        "#chat_text = \"Today is Wednesday, so tomorrow is\"\n",
        "\n",
        "#chat_text = \"You are familiar with the Meyers Briggs personality test and its results. What kind of activities would you recommend which can help INTJ and a ENFP develop a closer relationship / build trust\"\n",
        "chat_text = \"My name is Megan. I was born in December 1995 in San Diego CA. I have 3 siblings and a dog.\"\n",
        "\n",
        "#summary_length = input('How long do you want the summary')\n",
        "\n",
        "\n",
        "\n",
        "chat_completion = ChatCompletion.create(model=\"gpt-3.5-turbo\", messages=[\n",
        "    {\"role\": \"user\", \"content\": f\"Summarize this text in {summary_length}: {chat_text}\"}\n",
        "])\n",
        "\n",
        "# print the chat completion\n",
        "print(chat_completion.choices[0].message.content)\n",
        "\n",
        "\n",
        "# response = openai.ChatCompletion.create(\n",
        "#     model=\"gpt-3.5-turbo\",\n",
        "#         messages=[\n",
        "#         {\"role\": \"user\", \"content\": f\"Summarize this: {transcript}\"},\n",
        "#     ],\n",
        "# )\n",
        "# page_summary = response[\"choices\"][0][\"message\"][\"content\"]\n",
        "########\n",
        "# def generate_summarizer(\n",
        "#     max_tokens,\n",
        "#     temperature,\n",
        "#     top_p,\n",
        "#     frequency_penalty,\n",
        "#     prompt,\n",
        "#     person_type,\n",
        "# ):\n",
        "#     res = openai.ChatCompletion.create(\n",
        "#         model=\"gpt-3.5-turbo\",\n",
        "#         max_tokens=100,\n",
        "#         temperature=0.7,\n",
        "#         top_p=0.5,\n",
        "#         frequency_penalty=0.5,\n",
        "#         messages=\n",
        "#        [\n",
        "#          {\n",
        "#           \"role\": \"system\",\n",
        "#           \"content\": \"You are a helpful assistant for text summarization.\",\n",
        "#          },\n",
        "#          {\n",
        "#           \"role\": \"user\",\n",
        "#           \"content\": f\"Summarize this for a {person_type}: {prompt}\",\n",
        "#          },\n",
        "#         ],\n",
        "#     )\n",
        "#     return res[\"choices\"][0][\"message\"][\"content\"]"
      ],
      "metadata": {
        "colab": {
          "base_uri": "https://localhost:8080/"
        },
        "id": "6RIa2qWtsI13",
        "outputId": "d3ba291c-5b4a-4695-8428-d55f1945776c"
      },
      "execution_count": 28,
      "outputs": [
        {
          "output_type": "stream",
          "name": "stdout",
          "text": [
            "I. Introduction\n",
            "    A. Name: Megan\n",
            "    B. Birth: December 1995 in San Diego, CA\n",
            "    \n",
            "II. Personal Details\n",
            "    A. Siblings: 3\n",
            "    B. Pet: Dog\n"
          ]
        }
      ]
    }
  ]
}